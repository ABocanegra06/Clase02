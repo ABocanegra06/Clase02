{
  "nbformat": 4,
  "nbformat_minor": 0,
  "metadata": {
    "colab": {
      "name": "Tarea Clase 03",
      "provenance": [],
      "collapsed_sections": [],
      "authorship_tag": "ABX9TyOqzp41TU5fmlzlsQ9r/AWx",
      "include_colab_link": true
    },
    "kernelspec": {
      "name": "python3",
      "display_name": "Python 3"
    }
  },
  "cells": [
    {
      "cell_type": "markdown",
      "metadata": {
        "id": "view-in-github",
        "colab_type": "text"
      },
      "source": [
        "<a href=\"https://colab.research.google.com/github/ABocanegra06/Clase03/blob/main/Tarea_Clase_03.ipynb\" target=\"_parent\"><img src=\"https://colab.research.google.com/assets/colab-badge.svg\" alt=\"Open In Colab\"/></a>"
      ]
    },
    {
      "cell_type": "markdown",
      "metadata": {
        "id": "u3y4cqbpRbVt"
      },
      "source": [
        ""
      ]
    },
    {
      "cell_type": "code",
      "metadata": {
        "colab": {
          "base_uri": "https://localhost:8080/"
        },
        "id": "wt8ekTMgF8zg",
        "outputId": "409768e9-f929-4d34-dacc-ebbc08468b3b"
      },
      "source": [
        "print(\"----------------Transito Municipal----------------\"); #Encabezado de la interfaz\r\n",
        "\r\n",
        "#Diccionario anidado\r\n",
        "Basededatos = [{\"Placas\":123,\r\n",
        "                \"Modelo\":\"QWE\",\r\n",
        "                \"Año\":123},\r\n",
        "               {\"Placas\":456,\r\n",
        "                \"Modelo\":\"RTY\",\r\n",
        "                \"Año\":456}];\r\n",
        "\r\n",
        "#Agregar datos predefinidos a los diccionarios\r\n",
        "Basededatos[0].update({\"Color\":\"Rojo\",\"Transmision\":\"Estandar\"});\r\n",
        "Basededatos[1].update({\"Color\":\"Negro\",\"Transmision\":\"Automatico\"});\r\n",
        "\r\n",
        "#Solicitar nuevos datos al usuario\r\n",
        "print(\"Introduce el número de placas\");\r\n",
        "placas = input();\r\n",
        "print(\"Introduce el modelo del vehiculo\");\r\n",
        "modelo = input();\r\n",
        "print(\"Introduce el año del vehiculo\");\r\n",
        "año = input();\r\n",
        "print(\"Introduce el color del vehiculo\");\r\n",
        "color = input();\r\n",
        "print(\"Introduce el tipo de transmision del vehiculo\");\r\n",
        "transmision = input()\r\n",
        "\r\n",
        "#Agregar los nuevos datos al diccionario \r\n",
        "Basededatos.append({\"Placas\":placas,\r\n",
        "                    \"Modelo\":modelo,\r\n",
        "                    \"año\":año,\r\n",
        "                    \"Color\":color,\r\n",
        "                    \"Transmision\":transmision});\r\n",
        "print(\"ACTUALIZANDO BASE DE DATOS............................\")\r\n",
        "print(\".\")\r\n",
        "print(\".\")\r\n",
        "print(\".\")\r\n",
        "print(\".\")\r\n",
        "print(\".\")\r\n",
        "print(\".\")\r\n",
        "print(\".\")\r\n",
        "print(\".\")\r\n",
        "print(\".\")\r\n",
        "print(\".\")\r\n",
        "print(\".\")\r\n",
        "print(\".\")\r\n",
        "print(\".\")\r\n",
        "print(Basededatos[0]);\r\n",
        "print(Basededatos[1]);\r\n",
        "print(Basededatos[2]);"
      ],
      "execution_count": 75,
      "outputs": [
        {
          "output_type": "stream",
          "text": [
            "----------------Transito Municipal----------------\n",
            "Introduce el número de placas\n",
            "789\n",
            "Introduce el modelo del vehiculo\n",
            "asd\n",
            "Introduce el año del vehiculo\n",
            "789\n",
            "Introduce el color del vehiculo\n",
            "verde\n",
            "Introduce el tipo de transmision del vehiculo\n",
            "manual\n",
            "ACTUALIZANDO BASE DE DATOS............................\n",
            ".\n",
            ".\n",
            ".\n",
            ".\n",
            ".\n",
            ".\n",
            ".\n",
            ".\n",
            ".\n",
            ".\n",
            ".\n",
            ".\n",
            ".\n",
            "{'Placas': 123, 'Modelo': 'QWE', 'Año': 123, 'Color': 'Rojo', 'Transmision': 'Estandar'}\n",
            "{'Placas': 456, 'Modelo': 'RTY', 'Año': 456, 'Color': 'Negro', 'Transmision': 'Automatico'}\n",
            "{'Placas': '789', 'Modelo': 'asd', 'año': '789', 'Color': 'verde', 'Transmision': 'manual'}\n"
          ],
          "name": "stdout"
        }
      ]
    }
  ]
}